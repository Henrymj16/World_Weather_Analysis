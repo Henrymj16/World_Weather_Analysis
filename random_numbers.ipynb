{
 "cells": [
  {
   "cell_type": "code",
   "execution_count": 1,
   "id": "fd8c5c1a",
   "metadata": {},
   "outputs": [],
   "source": [
    "import random "
   ]
  },
  {
   "cell_type": "code",
   "execution_count": 2,
   "id": "620cc464",
   "metadata": {},
   "outputs": [
    {
     "data": {
      "text/plain": [
       "-84"
      ]
     },
     "execution_count": 2,
     "metadata": {},
     "output_type": "execute_result"
    }
   ],
   "source": [
    "random.randint(-90,90)"
   ]
  },
  {
   "cell_type": "code",
   "execution_count": 5,
   "id": "0ec75411",
   "metadata": {},
   "outputs": [
    {
     "data": {
      "text/plain": [
       "0.2653612405700101"
      ]
     },
     "execution_count": 5,
     "metadata": {},
     "output_type": "execute_result"
    }
   ],
   "source": [
    "random.random()"
   ]
  },
  {
   "cell_type": "code",
   "execution_count": 9,
   "id": "fa217ca2",
   "metadata": {},
   "outputs": [
    {
     "data": {
      "text/plain": [
       "18.601650328404858"
      ]
     },
     "execution_count": 9,
     "metadata": {},
     "output_type": "execute_result"
    }
   ],
   "source": [
    "random_number = random.randint(-90,90) + random.random()\n",
    "random_number"
   ]
  },
  {
   "cell_type": "markdown",
   "id": "18a7f312",
   "metadata": {},
   "source": [
    "import numpy as np "
   ]
  },
  {
   "cell_type": "code",
   "execution_count": 10,
   "id": "ece754db",
   "metadata": {},
   "outputs": [],
   "source": [
    "import numpy as np"
   ]
  },
  {
   "cell_type": "code",
   "execution_count": 11,
   "id": "4f1a72df",
   "metadata": {},
   "outputs": [
    {
     "data": {
      "text/plain": [
       "-20.58189030647722"
      ]
     },
     "execution_count": 11,
     "metadata": {},
     "output_type": "execute_result"
    }
   ],
   "source": [
    "np.random.uniform(-90.000, 90.000)"
   ]
  },
  {
   "cell_type": "code",
   "execution_count": 12,
   "id": "29a88ee2",
   "metadata": {},
   "outputs": [
    {
     "data": {
      "text/plain": [
       "array([-20.89140334, -60.54874624,  78.35117954,  18.90217771,\n",
       "         1.17405078,  74.07626775,  -3.5335502 ,  12.8311239 ,\n",
       "       -56.09660418,  32.19854224,  32.52913328,  81.66641179,\n",
       "       -25.24401606, -75.69437013, -16.65346714, -57.08580232,\n",
       "       -32.32580735,  68.53582895, -87.57032564,  70.54411609,\n",
       "       -72.91338822, -71.86373374,  40.99818902, -89.60894804,\n",
       "        29.72020966, -74.55375387, -74.92574059, -17.76771715,\n",
       "        67.1999641 , -43.43701639, -77.55233762,  78.5948279 ,\n",
       "        59.22956845, -10.47765626, -35.72380545, -78.41506723,\n",
       "        34.19993638,  52.16377368,  19.68153596,  18.45269324,\n",
       "        55.13577305,  82.71849247,   6.10920332,  70.60066592,\n",
       "       -14.18448895,  49.11609657,  29.58814124,  55.23730762,\n",
       "       -46.02122368, -28.39430147])"
      ]
     },
     "execution_count": 12,
     "metadata": {},
     "output_type": "execute_result"
    }
   ],
   "source": [
    "np.random.uniform(-90.000, 90.000, size = 50)"
   ]
  },
  {
   "cell_type": "code",
   "execution_count": 15,
   "id": "371b2ff0",
   "metadata": {},
   "outputs": [],
   "source": [
    "import timeit"
   ]
  },
  {
   "cell_type": "code",
   "execution_count": 17,
   "id": "afb0f489",
   "metadata": {},
   "outputs": [
    {
     "name": "stdout",
     "output_type": "stream",
     "text": [
      "15.2 µs ± 425 ns per loop (mean ± std. dev. of 7 runs, 100000 loops each)\n"
     ]
    }
   ],
   "source": [
    "%timeit np.random.uniform(-90.000, 90.000, size=1500)"
   ]
  },
  {
   "cell_type": "code",
   "execution_count": 19,
   "id": "fbb42342",
   "metadata": {},
   "outputs": [
    {
     "name": "stdout",
     "output_type": "stream",
     "text": [
      "2.12 ms ± 113 µs per loop (mean ± std. dev. of 7 runs, 100 loops each)\n"
     ]
    }
   ],
   "source": [
    "def latitudes(size):\n",
    "    latitudes = []\n",
    "    x = 0\n",
    "    while x < (size):\n",
    "        random_lat = random.randint(-90, 90) + random.random()\n",
    "        latitudes.append(random_lat)\n",
    "        x += 1\n",
    "    return latitudes\n",
    "\n",
    "%timeit latitudes(1500)"
   ]
  },
  {
   "cell_type": "code",
   "execution_count": null,
   "id": "a02589c4",
   "metadata": {},
   "outputs": [],
   "source": []
  }
 ],
 "metadata": {
  "kernelspec": {
   "display_name": "PythonData",
   "language": "python",
   "name": "pythondata"
  },
  "language_info": {
   "codemirror_mode": {
    "name": "ipython",
    "version": 3
   },
   "file_extension": ".py",
   "mimetype": "text/x-python",
   "name": "python",
   "nbconvert_exporter": "python",
   "pygments_lexer": "ipython3",
   "version": "3.7.10"
  }
 },
 "nbformat": 4,
 "nbformat_minor": 5
}
